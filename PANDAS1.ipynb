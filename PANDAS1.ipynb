{
 "cells": [
  {
   "cell_type": "markdown",
   "id": "8c557cc5-4b21-4b89-a986-842f6554b2fd",
   "metadata": {},
   "source": [
    "### it is referred as panel data or python data analysis"
   ]
  },
  {
   "cell_type": "markdown",
   "id": "d15e1832-6962-4a48-b595-37bcf2d72d2c",
   "metadata": {},
   "source": [
    "### works with excel,text,csv,json,zip file"
   ]
  },
  {
   "cell_type": "markdown",
   "id": "8ed86686-f157-4221-81b3-51df8df669bf",
   "metadata": {},
   "source": [
    "### manipulating,cleaning,exploration of dataset"
   ]
  },
  {
   "cell_type": "code",
   "execution_count": null,
   "id": "46fd425b-8b5e-409f-8e66-8c04ccd9e92e",
   "metadata": {},
   "outputs": [],
   "source": []
  },
  {
   "cell_type": "markdown",
   "id": "e2b85e5d-28eb-462d-8963-0819219f363d",
   "metadata": {},
   "source": [
    "#### PANDAS VS EXCEL"
   ]
  },
  {
   "cell_type": "markdown",
   "id": "2a3a28fb-2e66-43b7-9e09-749cbb352349",
   "metadata": {},
   "source": [
    "### Slow than pandas"
   ]
  },
  {
   "cell_type": "markdown",
   "id": "f02d2013-21e1-4d35-a261-e5ed77427e22",
   "metadata": {},
   "source": [
    "### hard to work on very large dataset in excel"
   ]
  },
  {
   "cell_type": "markdown",
   "id": "0afe2962-da07-4d6e-9358-0582bea62b7b",
   "metadata": {},
   "source": [
    "### Filtering is better in pandas"
   ]
  },
  {
   "cell_type": "code",
   "execution_count": null,
   "id": "e0700fb0-e102-431b-b827-4b1c042e4ff0",
   "metadata": {},
   "outputs": [],
   "source": []
  },
  {
   "cell_type": "markdown",
   "id": "b023f413-e652-459d-900c-7858726b8e4f",
   "metadata": {},
   "source": [
    "### PANDAS TAKE 3 DATA STRUTURE:SERIES,DATAFRAME AND PANEL"
   ]
  },
  {
   "cell_type": "markdown",
   "id": "2566bae3-d5e7-4d70-8775-027d812c40e7",
   "metadata": {},
   "source": [
    "### SERIES:ONE D LABELED ARRAY pd.series(data)"
   ]
  },
  {
   "cell_type": "markdown",
   "id": "692500e3-adf4-4fe7-a384-b1b938a5ec57",
   "metadata": {},
   "source": [
    "### DataFrame:2d data structure with row and column"
   ]
  },
  {
   "cell_type": "markdown",
   "id": "765efef7-4937-4e5d-babf-f440f5e62b82",
   "metadata": {},
   "source": [
    "### Panel:3d data container"
   ]
  },
  {
   "cell_type": "code",
   "execution_count": null,
   "id": "5f24bb55-554b-455e-81aa-f57e6d17b4cc",
   "metadata": {},
   "outputs": [],
   "source": []
  },
  {
   "cell_type": "markdown",
   "id": "0653cb3b-c1f3-4b13-92ed-22e8ba7829d1",
   "metadata": {},
   "source": [
    "### IMPORTANCE"
   ]
  },
  {
   "cell_type": "markdown",
   "id": "7c4abcc0-3200-418f-a3e2-8bc53bfeb50e",
   "metadata": {},
   "source": [
    "### It can make conclusion based on stat theories"
   ]
  },
  {
   "cell_type": "markdown",
   "id": "62dea0cc-4e82-4b1e-b008-dde90eea8cfb",
   "metadata": {},
   "source": [
    "### Pandas can clean messy data sets and make them relevant and readable"
   ]
  },
  {
   "cell_type": "markdown",
   "id": "fd4b865c-1970-4fdd-a1fe-c3da4b150855",
   "metadata": {},
   "source": [
    "### Easy handeling of missing data in floating and non floating point data"
   ]
  },
  {
   "cell_type": "markdown",
   "id": "f0593976-c368-4ad5-8093-bde9ce4c1232",
   "metadata": {},
   "source": [
    "### Size mutability ,column can be inserted and deleted from the DataFrame and higher dimensional object"
   ]
  },
  {
   "cell_type": "markdown",
   "id": "bad9ac09-35c6-4f2c-8dfa-362709956412",
   "metadata": {},
   "source": [
    "### Dataset merging and joining and flexible reshaping and pivoting of datasets"
   ]
  },
  {
   "cell_type": "code",
   "execution_count": null,
   "id": "9d41b65c-7af8-4538-b645-27e2a35afcf3",
   "metadata": {},
   "outputs": [],
   "source": []
  }
 ],
 "metadata": {
  "kernelspec": {
   "display_name": "Python 3 (ipykernel)",
   "language": "python",
   "name": "python3"
  },
  "language_info": {
   "codemirror_mode": {
    "name": "ipython",
    "version": 3
   },
   "file_extension": ".py",
   "mimetype": "text/x-python",
   "name": "python",
   "nbconvert_exporter": "python",
   "pygments_lexer": "ipython3",
   "version": "3.11.7"
  }
 },
 "nbformat": 4,
 "nbformat_minor": 5
}
