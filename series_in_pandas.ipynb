{
 "cells": [
  {
   "cell_type": "code",
   "execution_count": 5,
   "id": "ec2b06bc-11da-4a78-a51e-df6d9b924a54",
   "metadata": {},
   "outputs": [],
   "source": [
    "import pandas as pd\n"
   ]
  },
  {
   "cell_type": "code",
   "execution_count": 2,
   "id": "363dd388-548e-447d-aa4d-8ae44934d08f",
   "metadata": {},
   "outputs": [],
   "source": [
    "x=[1,2,3,4,5]#dataset of one D which is list"
   ]
  },
  {
   "cell_type": "code",
   "execution_count": 5,
   "id": "b722ec9c-0681-48e9-b5fd-f68d80c96adf",
   "metadata": {},
   "outputs": [],
   "source": [
    "var=pd.Series(x)#making it in a series form"
   ]
  },
  {
   "cell_type": "code",
   "execution_count": 6,
   "id": "aa750324-4258-4ef8-b22a-0a97b45b9578",
   "metadata": {},
   "outputs": [
    {
     "data": {
      "text/plain": [
       "3"
      ]
     },
     "execution_count": 6,
     "metadata": {},
     "output_type": "execute_result"
    }
   ],
   "source": [
    "var[2]#printing the third value"
   ]
  },
  {
   "cell_type": "code",
   "execution_count": 13,
   "id": "b02fcd89-d575-4dcf-a940-02aee7c11eda",
   "metadata": {},
   "outputs": [
    {
     "data": {
      "text/plain": [
       "0    1\n",
       "1    2\n",
       "2    3\n",
       "3    4\n",
       "4    5\n",
       "dtype: int64"
      ]
     },
     "execution_count": 13,
     "metadata": {},
     "output_type": "execute_result"
    }
   ],
   "source": [
    "var"
   ]
  },
  {
   "cell_type": "markdown",
   "id": "8408a056-8ad9-403d-a1b0-690e6045b740",
   "metadata": {},
   "source": [
    "### using of index=[] helps to use demanded index for the data and dtype changes the datatype of data in the dataset"
   ]
  },
  {
   "cell_type": "code",
   "execution_count": null,
   "id": "bc7861f3-40a4-45ea-86d0-59d47d6a832c",
   "metadata": {},
   "outputs": [],
   "source": []
  },
  {
   "cell_type": "code",
   "execution_count": 11,
   "id": "98872040-58c3-4788-a697-1f28b3b0c360",
   "metadata": {},
   "outputs": [
    {
     "data": {
      "text/plain": [
       "a    1.0\n",
       "b    2.0\n",
       "c    3.0\n",
       "d    4.0\n",
       "e    5.0\n",
       "dtype: float16"
      ]
     },
     "execution_count": 11,
     "metadata": {},
     "output_type": "execute_result"
    }
   ],
   "source": [
    "pd.Series(x,index=['a','b','c','d','e'],dtype='float16')"
   ]
  },
  {
   "cell_type": "markdown",
   "id": "65b0d616-754a-4088-8ec5-fc3977161df3",
   "metadata": {},
   "source": [
    "### name='' is used to keep the name for the dataset"
   ]
  },
  {
   "cell_type": "code",
   "execution_count": 12,
   "id": "7465e90b-8d51-4e58-a42a-8be5cb212c28",
   "metadata": {},
   "outputs": [
    {
     "data": {
      "text/plain": [
       "a    1.0\n",
       "b    2.0\n",
       "c    3.0\n",
       "d    4.0\n",
       "e    5.0\n",
       "Name: number, dtype: float16"
      ]
     },
     "execution_count": 12,
     "metadata": {},
     "output_type": "execute_result"
    }
   ],
   "source": [
    "pd.Series(x,index=['a','b','c','d','e'],dtype='float16',name='number')"
   ]
  },
  {
   "cell_type": "code",
   "execution_count": null,
   "id": "4dbbd0dc-8d42-4d7b-b536-4252b3c28a6e",
   "metadata": {},
   "outputs": [],
   "source": []
  },
  {
   "cell_type": "markdown",
   "id": "80d0828d-816f-4030-abfd-a947d64a0060",
   "metadata": {},
   "source": [
    "### WE CAN ALSO USE THE DICTIONARY ,TUPLE AS THE LIST TO MAKE A SERIES OF DATASET IN PANDAS"
   ]
  },
  {
   "cell_type": "code",
   "execution_count": 3,
   "id": "672ca2f3-d9a0-4aa3-8ac1-60c9aff79c49",
   "metadata": {},
   "outputs": [],
   "source": [
    "dic={'name':['Nick','Nani','Nansu'],'position':[1,2,3],'rank':[11,12,1]}"
   ]
  },
  {
   "cell_type": "code",
   "execution_count": 6,
   "id": "452972c1-027b-4929-a5f9-8184f0951262",
   "metadata": {},
   "outputs": [
    {
     "data": {
      "text/plain": [
       "name        [Nick, Nani, Nansu]\n",
       "position              [1, 2, 3]\n",
       "rank                [11, 12, 1]\n",
       "dtype: object"
      ]
     },
     "execution_count": 6,
     "metadata": {},
     "output_type": "execute_result"
    }
   ],
   "source": [
    "pd.Series(dic)"
   ]
  },
  {
   "cell_type": "markdown",
   "id": "a0fc012d-917e-4b22-a1cd-2fdf998cccf2",
   "metadata": {},
   "source": [
    "### TO MAKE SERIES OF 1 OBJECT"
   ]
  },
  {
   "cell_type": "code",
   "execution_count": 8,
   "id": "edc92b1f-9d96-476c-b8a5-550d69e5bb19",
   "metadata": {},
   "outputs": [
    {
     "data": {
      "text/plain": [
       "0    12\n",
       "dtype: int64"
      ]
     },
     "execution_count": 8,
     "metadata": {},
     "output_type": "execute_result"
    }
   ],
   "source": [
    "pd.Series(12)"
   ]
  },
  {
   "cell_type": "markdown",
   "id": "99fa68b4-546c-4985-9be5-6f7a33dbd2be",
   "metadata": {},
   "source": [
    "### TO MAKE THIS SERIES IN DIFFERENT INDEX"
   ]
  },
  {
   "cell_type": "code",
   "execution_count": 9,
   "id": "9b0a4c8d-a0b9-4186-b88c-ad3a484408d0",
   "metadata": {},
   "outputs": [
    {
     "data": {
      "text/plain": [
       "1    12\n",
       "2    12\n",
       "3    12\n",
       "4    12\n",
       "5    12\n",
       "6    12\n",
       "7    12\n",
       "dtype: int64"
      ]
     },
     "execution_count": 9,
     "metadata": {},
     "output_type": "execute_result"
    }
   ],
   "source": [
    "pd.Series(12,index=[1,2,3,4,5,6,7])"
   ]
  },
  {
   "cell_type": "code",
   "execution_count": 11,
   "id": "be4ab71e-eab1-4b89-981f-124bc952b204",
   "metadata": {},
   "outputs": [
    {
     "data": {
      "text/plain": [
       "0    2.0\n",
       "1    4.0\n",
       "2    NaN\n",
       "dtype: float64"
      ]
     },
     "execution_count": 11,
     "metadata": {},
     "output_type": "execute_result"
    }
   ],
   "source": [
    "pd.Series([1,2])+pd.Series([1,2,3])"
   ]
  },
  {
   "cell_type": "code",
   "execution_count": null,
   "id": "e6631aa1-ef6e-4b88-8eb3-237039353dd8",
   "metadata": {},
   "outputs": [],
   "source": []
  }
 ],
 "metadata": {
  "kernelspec": {
   "display_name": "Python 3 (ipykernel)",
   "language": "python",
   "name": "python3"
  },
  "language_info": {
   "codemirror_mode": {
    "name": "ipython",
    "version": 3
   },
   "file_extension": ".py",
   "mimetype": "text/x-python",
   "name": "python",
   "nbconvert_exporter": "python",
   "pygments_lexer": "ipython3",
   "version": "3.11.7"
  }
 },
 "nbformat": 4,
 "nbformat_minor": 5
}
