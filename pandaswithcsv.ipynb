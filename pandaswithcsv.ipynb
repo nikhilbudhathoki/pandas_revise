{
 "cells": [
  {
   "cell_type": "code",
   "execution_count": 1,
   "id": "25720d4f-c899-449e-80e6-f9897db59297",
   "metadata": {},
   "outputs": [],
   "source": [
    "import pandas as pd"
   ]
  },
  {
   "cell_type": "code",
   "execution_count": 2,
   "id": "1b5b1044-59f1-448f-839e-4e6db5103099",
   "metadata": {},
   "outputs": [],
   "source": [
    "dis={'a':[1,2,3,45],'b':[3,4,3,5],'c':[3,3,5,6]}"
   ]
  },
  {
   "cell_type": "code",
   "execution_count": 3,
   "id": "bb9deea9-4ba5-4d3e-b31d-446c357a3ebb",
   "metadata": {},
   "outputs": [],
   "source": [
    "d=pd.DataFrame(dis)"
   ]
  },
  {
   "cell_type": "code",
   "execution_count": 4,
   "id": "890f01b7-94d6-44c6-bf60-2c4b4f9fa9d7",
   "metadata": {},
   "outputs": [
    {
     "data": {
      "text/html": [
       "<div>\n",
       "<style scoped>\n",
       "    .dataframe tbody tr th:only-of-type {\n",
       "        vertical-align: middle;\n",
       "    }\n",
       "\n",
       "    .dataframe tbody tr th {\n",
       "        vertical-align: top;\n",
       "    }\n",
       "\n",
       "    .dataframe thead th {\n",
       "        text-align: right;\n",
       "    }\n",
       "</style>\n",
       "<table border=\"1\" class=\"dataframe\">\n",
       "  <thead>\n",
       "    <tr style=\"text-align: right;\">\n",
       "      <th></th>\n",
       "      <th>a</th>\n",
       "      <th>b</th>\n",
       "      <th>c</th>\n",
       "    </tr>\n",
       "  </thead>\n",
       "  <tbody>\n",
       "    <tr>\n",
       "      <th>0</th>\n",
       "      <td>1</td>\n",
       "      <td>3</td>\n",
       "      <td>3</td>\n",
       "    </tr>\n",
       "    <tr>\n",
       "      <th>1</th>\n",
       "      <td>2</td>\n",
       "      <td>4</td>\n",
       "      <td>3</td>\n",
       "    </tr>\n",
       "    <tr>\n",
       "      <th>2</th>\n",
       "      <td>3</td>\n",
       "      <td>3</td>\n",
       "      <td>5</td>\n",
       "    </tr>\n",
       "    <tr>\n",
       "      <th>3</th>\n",
       "      <td>45</td>\n",
       "      <td>5</td>\n",
       "      <td>6</td>\n",
       "    </tr>\n",
       "  </tbody>\n",
       "</table>\n",
       "</div>"
      ],
      "text/plain": [
       "    a  b  c\n",
       "0   1  3  3\n",
       "1   2  4  3\n",
       "2   3  3  5\n",
       "3  45  5  6"
      ]
     },
     "execution_count": 4,
     "metadata": {},
     "output_type": "execute_result"
    }
   ],
   "source": [
    "d"
   ]
  },
  {
   "cell_type": "code",
   "execution_count": 12,
   "id": "8aeeedc0-0d9b-4eab-a3d3-b8a81645053f",
   "metadata": {},
   "outputs": [],
   "source": [
    "d.to_csv(\"Test.csv\")#it creates new file csv and write in their"
   ]
  },
  {
   "cell_type": "code",
   "execution_count": 14,
   "id": "586e0fc1-2057-45b0-8e32-db0787b52026",
   "metadata": {},
   "outputs": [],
   "source": [
    "d.to_csv(\"Tes2t.csv\",index=False)#rempve the index from the file"
   ]
  },
  {
   "cell_type": "code",
   "execution_count": 16,
   "id": "b3d45905-570b-4759-bcfd-82d518fd35da",
   "metadata": {},
   "outputs": [],
   "source": [
    "d.to_csv(\"11Tes2t.csv\",index=False,header=['aside','bside','cside'])"
   ]
  },
  {
   "cell_type": "code",
   "execution_count": null,
   "id": "973034f9-12fb-4ac9-a767-1fe819b674ba",
   "metadata": {},
   "outputs": [],
   "source": []
  }
 ],
 "metadata": {
  "kernelspec": {
   "display_name": "Python 3 (ipykernel)",
   "language": "python",
   "name": "python3"
  },
  "language_info": {
   "codemirror_mode": {
    "name": "ipython",
    "version": 3
   },
   "file_extension": ".py",
   "mimetype": "text/x-python",
   "name": "python",
   "nbconvert_exporter": "python",
   "pygments_lexer": "ipython3",
   "version": "3.11.7"
  }
 },
 "nbformat": 4,
 "nbformat_minor": 5
}
